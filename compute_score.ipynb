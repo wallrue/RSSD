{
 "cells": [
  {
   "cell_type": "code",
   "execution_count": 1,
   "id": "c7981430",
   "metadata": {},
   "outputs": [],
   "source": [
    "model_lists = [\"STGAN\", \"SIDPAMIwISTGAN\", \"SIDSTGAN\"]\n",
    "checkpoint_lists = ['latest'] #[10*i for i in range(0,90)]"
   ]
  },
  {
   "cell_type": "code",
   "execution_count": 2,
   "id": "e84e8490",
   "metadata": {},
   "outputs": [],
   "source": [
    "import cv2\n",
    "import matplotlib.pyplot as plt\n",
    "from imutils import paths\n",
    "import numpy as np\n",
    "import math\n",
    "from tqdm import tqdm\n",
    "import os\n",
    "from PIL import Image"
   ]
  },
  {
   "cell_type": "code",
   "execution_count": 3,
   "id": "e41ce274",
   "metadata": {},
   "outputs": [],
   "source": [
    "def calculate_psnr(img1_tensor, img2_tensor):\n",
    "    \"\"\"Calculate PSNR score\n",
    "    \n",
    "    Parameters:\n",
    "        img1_tensor (int) -- a image to compare, range [0, 255]\n",
    "        img2_tensor (int) -- a image to compare, range [0, 255]\n",
    "    \"\"\"    \n",
    "    img1 = ((img1_tensor + 1.0)*255.0/2.0).astype(np.float64)\n",
    "    img2 = ((img2_tensor + 1.0)*255.0/2.0).astype(np.float64)\n",
    "    mse = np.mean((img1 - img2)**2)\n",
    "    if mse == 0:\n",
    "        return float('inf')\n",
    "    return 20 * math.log10(255.0 / math.sqrt(mse))\n",
    "\n",
    "def calculate_ssim(img1_tensor, img2_tensor):\n",
    "    \"\"\"Calculate SSIM score\n",
    "    \n",
    "    Parameters:\n",
    "        img1_tensor (int) -- a image to compare, range [0, 255]\n",
    "        img2_tensor (int) -- a image to compare, range [0, 255]\n",
    "    \"\"\"\n",
    "    def ssim(img1, img2):\n",
    "        C1 = (0.01 * 255)**2\n",
    "        C2 = (0.03 * 255)**2\n",
    "\n",
    "        kernel = cv2.getGaussianKernel(11, 1.5)\n",
    "        window = np.outer(kernel, kernel.transpose())\n",
    "\n",
    "        mu1 = cv2.filter2D(img1, -1, window)[5:-5, 5:-5]  # valid\n",
    "        mu2 = cv2.filter2D(img2, -1, window)[5:-5, 5:-5]\n",
    "        mu1_sq = mu1**2\n",
    "        mu2_sq = mu2**2\n",
    "        mu1_mu2 = mu1 * mu2\n",
    "        sigma1_sq = cv2.filter2D(img1**2, -1, window)[5:-5, 5:-5] - mu1_sq\n",
    "        sigma2_sq = cv2.filter2D(img2**2, -1, window)[5:-5, 5:-5] - mu2_sq\n",
    "        sigma12 = cv2.filter2D(img1 * img2, -1, window)[5:-5, 5:-5] - mu1_mu2\n",
    "\n",
    "        ssim_map = ((2 * mu1_mu2 + C1) * (2 * sigma12 + C2)) / ((mu1_sq + mu2_sq + C1) *\n",
    "                                                                (sigma1_sq + sigma2_sq + C2))\n",
    "        return ssim_map.mean()\n",
    "    \n",
    "    img1 = ((img1_tensor + 1.0)*255.0/2.0).astype(np.float64)\n",
    "    img2 = ((img2_tensor + 1.0)*255.0/2.0).astype(np.float64)\n",
    "    if not img1.shape == img2.shape:\n",
    "        raise ValueError('Input images must have the same dimensions.')\n",
    "    if img1.ndim == 2:\n",
    "        return ssim(img1, img2)\n",
    "    elif img1.ndim == 3:\n",
    "        if img1.shape[2] == 3:\n",
    "            ssims = []\n",
    "            for i in range(3):\n",
    "                ssims.append(ssim(img1, img2))\n",
    "            return np.array(ssims).mean()\n",
    "        elif img1.shape[2] == 1:\n",
    "            return ssim(np.squeeze(img1), np.squeeze(img2))\n",
    "    else:\n",
    "        raise ValueError('Wrong input image dimensions.')\n",
    "        \n",
    "def calculate_dice(mask_gt, mask_pred):\n",
    "    mask_gt = (mask_gt + 1.0)/2.0\n",
    "    mask_pred = (mask_pred + 1.0)/2.0\n",
    "    \n",
    "    volume_sum = mask_gt.sum() + mask_pred.sum()\n",
    "    if volume_sum == 0:\n",
    "        return np.NaN\n",
    "    \n",
    "    volume_intersect = mask_gt*mask_pred\n",
    "    volume_intersect = volume_intersect.sum()\n",
    "    \n",
    "    return 2*volume_intersect / volume_sum "
   ]
  },
  {
   "cell_type": "code",
   "execution_count": 4,
   "id": "9ce7c331",
   "metadata": {},
   "outputs": [],
   "source": [
    "def compute_score(groudtruth_path, predicted_path, color_image = True):\n",
    "    def get_score(func, score_dict, index, img_groudtruth, img_predicted):\n",
    "        score_dict['total'] += func(img_groudtruth, img_predicted)\n",
    "        if index%10 < 5:\n",
    "            score_dict['indoors'] += func(img_groudtruth, img_predicted)            \n",
    "        else:\n",
    "            score_dict['outdoors'] += func(img_groudtruth, img_predicted) \n",
    "            \n",
    "    score = list()\n",
    "    if color_image:\n",
    "        score.append({'name': 'PNSR', 'func': calculate_psnr, 'total': 0, 'indoors': 0, 'outdoors': 0})\n",
    "    else:\n",
    "        score.append({'name': 'Dice', 'func': calculate_dice, 'total': 0, 'indoors': 0, 'outdoors': 0})\n",
    "    score.append({'name': 'SSIM', 'func': calculate_ssim, 'total': 0, 'indoors': 0, 'outdoors': 0})\n",
    "    \n",
    "    groudtruth = list(paths.list_images(groudtruth_path))\n",
    "    predicted = list(paths.list_images(predicted_path))\n",
    "\n",
    "    for i in tqdm(range(len(predicted))):\n",
    "        img_predicted = cv2.imread(predicted[i], color_image)\n",
    "        img_groudtruth = cv2.imread(groudtruth[i], color_image)\n",
    "        \n",
    "        if color_image:\n",
    "            img_predicted = cv2.cvtColor(img_predicted, cv2.COLOR_BGR2RGB)\n",
    "            img_groudtruth = cv2.cvtColor(img_groudtruth, cv2.COLOR_BGR2RGB)\n",
    "        \n",
    "        img_predicted = (img_predicted/255.0-0.5)*2.0\n",
    "        img_groudtruth = (img_groudtruth/255.0-0.5)*2.0\n",
    "\n",
    "        get_score(score[0]['func'], score[0], i, img_groudtruth, img_predicted)\n",
    "        get_score(score[1]['func'], score[1], i, img_groudtruth, img_predicted)\n",
    "\n",
    "    print(\"___{}-{}_______________________:\".format(groudtruth_path.split(\"\\\\\")[-1],predicted_path.split(\"\\\\\")[-1]))\n",
    "    print(\"{}_score:\".format(score[0][\"name\"]), score[0][\"total\"]/len(predicted), \\\n",
    "          \", {}_score:\".format(score[1][\"name\"]), score[1][\"total\"]/len(predicted))\n",
    "    print(\"{}_score_indoors:\".format(score[0][\"name\"]), score[0][\"indoors\"]/len(predicted)*2, \\\n",
    "          \", {}_score:\".format(score[1][\"name\"]), score[1][\"indoors\"]/len(predicted)*2)\n",
    "    print(\"{}_score_outdoors:\".format(score[0][\"name\"]), score[0][\"outdoors\"]/len(predicted)*2, \\\n",
    "          \", {}_score:\".format(score[1][\"name\"]), score[1][\"outdoors\"]/len(predicted)*2)\n",
    "    \n",
    "    return score[0][\"total\"]/len(predicted), score[1][\"total\"]/len(predicted)"
   ]
  },
  {
   "cell_type": "code",
   "execution_count": 5,
   "id": "beeaf9a0",
   "metadata": {},
   "outputs": [],
   "source": [
    "def plot_figure(ax, data, name):\n",
    "    ax.plot(data, color='magenta', marker='o',mfc='pink' ) #plot the data\n",
    "    ax.set_xticks(range(0,len(data)+1, 1))\n",
    "    ax.set_ylabel('data')\n",
    "    ax.set_xlabel('epoch')\n",
    "    ax.set_title(name)"
   ]
  },
  {
   "cell_type": "code",
   "execution_count": 6,
   "id": "97905bd8",
   "metadata": {
    "scrolled": true
   },
   "outputs": [
    {
     "name": "stdout",
     "output_type": "stream",
     "text": [
      "_____Experiment on Palm ROI images_____\n"
     ]
    },
    {
     "name": "stderr",
     "output_type": "stream",
     "text": [
      "100%|██████████████████████████████████████████████████████████████████████████████| 1600/1600 [01:54<00:00, 13.94it/s]\n"
     ]
    },
    {
     "name": "stdout",
     "output_type": "stream",
     "text": [
      "___groudtruth__roi-original__roi_______________________:\n",
      "PNSR_score: 15.949928830147785 , SSIM_score: 0.7601168050105723\n",
      "PNSR_score_indoors: 16.416767732324637 , SSIM_score: 0.7848511873054395\n",
      "PNSR_score_outdoors: 15.483089927970966 , SSIM_score: 0.7353824227157044\n"
     ]
    },
    {
     "name": "stderr",
     "output_type": "stream",
     "text": [
      "100%|██████████████████████████████████████████████████████████████████████████████| 1600/1600 [02:12<00:00, 12.04it/s]\n"
     ]
    },
    {
     "name": "stdout",
     "output_type": "stream",
     "text": [
      "___groudtruth__roi-shadowfree_STGAN_rawsynthetic_190__roi_______________________:\n",
      "PNSR_score: 19.440413819421714 , SSIM_score: 0.7840667198241066\n",
      "PNSR_score_indoors: 20.277426437769204 , SSIM_score: 0.8136439319638029\n",
      "PNSR_score_outdoors: 18.603401201074185 , SSIM_score: 0.7544895076844046\n"
     ]
    },
    {
     "name": "stderr",
     "output_type": "stream",
     "text": [
      "100%|██████████████████████████████████████████████████████████████████████████████| 1600/1600 [01:59<00:00, 13.34it/s]\n"
     ]
    },
    {
     "name": "stdout",
     "output_type": "stream",
     "text": [
      "___groudtruth__roi-shadowfree_STGAN_rawsynthetic_HandSeg_190__roi_______________________:\n",
      "PNSR_score: 19.671887998718542 , SSIM_score: 0.7915262673794083\n",
      "PNSR_score_indoors: 20.262004425010332 , SSIM_score: 0.8172776925669105\n",
      "PNSR_score_outdoors: 19.081771572426728 , SSIM_score: 0.7657748421919076\n"
     ]
    },
    {
     "name": "stderr",
     "output_type": "stream",
     "text": [
      "100%|██████████████████████████████████████████████████████████████████████████████| 1600/1600 [01:33<00:00, 17.05it/s]\n"
     ]
    },
    {
     "name": "stdout",
     "output_type": "stream",
     "text": [
      "___groudtruth__roi-shadowfree_SIDSTGAN_rawsynthetic_190__roi_______________________:\n",
      "PNSR_score: 19.649369108448806 , SSIM_score: 0.7947177054547115\n",
      "PNSR_score_indoors: 20.372106643585543 , SSIM_score: 0.8235438736809093\n",
      "PNSR_score_outdoors: 18.926631573311987 , SSIM_score: 0.7658915372285116\n"
     ]
    },
    {
     "name": "stderr",
     "output_type": "stream",
     "text": [
      "100%|██████████████████████████████████████████████████████████████████████████████| 1600/1600 [01:45<00:00, 15.13it/s]\n"
     ]
    },
    {
     "name": "stdout",
     "output_type": "stream",
     "text": [
      "___groudtruth__roi-shadowfree_SIDSTGAN_rawsynthetic_HandSeg_190__roi_______________________:\n",
      "PNSR_score: 19.9327355578293 , SSIM_score: 0.7977170294761884\n",
      "PNSR_score_indoors: 20.710126352369688 , SSIM_score: 0.8273520104469883\n",
      "PNSR_score_outdoors: 19.155344763288937 , SSIM_score: 0.7680820485053879\n"
     ]
    },
    {
     "name": "stderr",
     "output_type": "stream",
     "text": [
      "100%|██████████████████████████████████████████████████████████████████████████████| 1600/1600 [01:56<00:00, 13.74it/s]\n"
     ]
    },
    {
     "name": "stdout",
     "output_type": "stream",
     "text": [
      "___groudtruth__roi-shadowfree_SIDPAMIwISTGAN_rawsynthetic_190__roi_______________________:\n",
      "PNSR_score: 19.56079945932398 , SSIM_score: 0.7901856452580418\n",
      "PNSR_score_indoors: 20.635715162994767 , SSIM_score: 0.8224213403239169\n",
      "PNSR_score_outdoors: 18.48588375565312 , SSIM_score: 0.7579499501921637\n"
     ]
    },
    {
     "name": "stderr",
     "output_type": "stream",
     "text": [
      "100%|██████████████████████████████████████████████████████████████████████████████| 1600/1600 [01:54<00:00, 13.93it/s]"
     ]
    },
    {
     "name": "stdout",
     "output_type": "stream",
     "text": [
      "___groudtruth__roi-shadowfree_SIDPAMIwISTGAN_rawsynthetic_HandSeg_190__roi_______________________:\n",
      "PNSR_score: 19.885948569203535 , SSIM_score: 0.7952757070601217\n",
      "PNSR_score_indoors: 20.73754431383587 , SSIM_score: 0.8255233284412371\n",
      "PNSR_score_outdoors: 19.034352824571187 , SSIM_score: 0.7650280856790035\n"
     ]
    },
    {
     "name": "stderr",
     "output_type": "stream",
     "text": [
      "\n"
     ]
    }
   ],
   "source": [
    "print(\"_____Experiment on Palm ROI images_____\")\n",
    "path = os.path.join(os. getcwd(), \"RSSD\\\\_result_set\")\n",
    "groudtruth_path = os.path.join(path, \"groudtruth__roi\")     \n",
    "path_dict = {\"original\": [os.path.join(path, \"original__roi\")]}\n",
    "for name_list in model_lists:\n",
    "    path_dict[name_list] = list()\n",
    "    path_dict[f\"{name_list}_HandSeg\"] = list()\n",
    "\n",
    "for index in checkpoint_lists:\n",
    "    for name_list in model_lists:\n",
    "        path_dict[name_list].append(os.path.join(path, f\"shadowfree_{name_list}_rawsynthetic_{index}__roi\"))      \n",
    "        path_dict[f\"{name_list}_HandSeg\"].append(os.path.join(path, f\"shadowfree_{name_list}_rawsynthetic_HandSeg_{index}__roi\"))\n",
    "\n",
    "draw_data = dict()\n",
    "for model_name in list(path_dict.keys()):\n",
    "    PNSR_list, SSIM_list = list(), list()\n",
    "    \n",
    "    for predicted_path in path_dict[model_name]: \n",
    "        PNSR, SSIM = compute_score(groudtruth_path, predicted_path, color_image = 1)\n",
    "        PNSR_list.append(PNSR)\n",
    "        SSIM_list.append(SSIM)\n",
    "    \n",
    "    if len(PNSR_list) > 1:\n",
    "        draw_data[model_name] = [PNSR_list, SSIM_list]"
   ]
  },
  {
   "cell_type": "code",
   "execution_count": 13,
   "id": "c10464cb",
   "metadata": {},
   "outputs": [
    {
     "name": "stdout",
     "output_type": "stream",
     "text": [
      "_____Experiment on Palm ROI images_____\n"
     ]
    }
   ],
   "source": [
    "# Visualize data\n",
    "print(\"_____Experiment on Palm ROI images_____\")\n",
    "model_list = list(draw_data.keys())\n",
    "if len(model_list) > 0:\n",
    "    fig, axs = plt.subplots(nrows=len(model_list),ncols=2, figsize=(20,10))\n",
    "    for model_id in range(len(model_list)): \n",
    "        plot_figure(axs[model_id, 0], draw_data[model_list[model_id]][0], f\"PNSR score_{model_list[model_id]}\")\n",
    "        plot_figure(axs[model_id, 1], draw_data[model_list[model_id]][1], f\"SSIM score_{model_list[model_id]}\")\n",
    "    plt.tight_layout()\n",
    "    plt.show()"
   ]
  },
  {
   "cell_type": "code",
   "execution_count": 14,
   "id": "f22b538c",
   "metadata": {
    "scrolled": true
   },
   "outputs": [
    {
     "name": "stdout",
     "output_type": "stream",
     "text": [
      "_____Experiment on Palm Vein images_____\n"
     ]
    },
    {
     "name": "stderr",
     "output_type": "stream",
     "text": [
      "100%|█████████████████████████████████████████████████████████████████████████████| 1600/1600 [00:13<00:00, 121.77it/s]\n"
     ]
    },
    {
     "name": "stdout",
     "output_type": "stream",
     "text": [
      "___groudtruth__vein-original__vein_______________________:\n",
      "Dice_score: 0.18091166002510659 , SSIM_score: 0.28561952839265703\n",
      "Dice_score_indoors: 0.18255101131302184 , SSIM_score: 0.29443407137751015\n",
      "Dice_score_outdoors: 0.17927230873719086 , SSIM_score: 0.27680498540780485\n"
     ]
    },
    {
     "name": "stderr",
     "output_type": "stream",
     "text": [
      "100%|██████████████████████████████████████████████████████████████████████████████| 1600/1600 [00:23<00:00, 68.36it/s]\n"
     ]
    },
    {
     "name": "stdout",
     "output_type": "stream",
     "text": [
      "___groudtruth__vein-shadowfree_STGAN_rawsynthetic_190__vein_______________________:\n",
      "Dice_score: 0.1790118220105639 , SSIM_score: 0.2737803672787573\n",
      "Dice_score_indoors: 0.18015249532470856 , SSIM_score: 0.27973359138754006\n",
      "Dice_score_outdoors: 0.17787114869641873 , SSIM_score: 0.2678271431699753\n"
     ]
    },
    {
     "name": "stderr",
     "output_type": "stream",
     "text": [
      "100%|██████████████████████████████████████████████████████████████████████████████| 1600/1600 [00:25<00:00, 63.55it/s]\n"
     ]
    },
    {
     "name": "stdout",
     "output_type": "stream",
     "text": [
      "___groudtruth__vein-shadowfree_STGAN_rawsynthetic_HandSeg_190__vein_______________________:\n",
      "Dice_score: 0.17625644685335204 , SSIM_score: 0.2737700793250258\n",
      "Dice_score_indoors: 0.1761740917172229 , SSIM_score: 0.2769659697481288\n",
      "Dice_score_outdoors: 0.1763388019894812 , SSIM_score: 0.27057418890192325\n"
     ]
    },
    {
     "name": "stderr",
     "output_type": "stream",
     "text": [
      "100%|██████████████████████████████████████████████████████████████████████████████| 1600/1600 [00:16<00:00, 99.36it/s]\n"
     ]
    },
    {
     "name": "stdout",
     "output_type": "stream",
     "text": [
      "___groudtruth__vein-shadowfree_SIDSTGAN_rawsynthetic_190__vein_______________________:\n",
      "Dice_score: 0.18473157711176505 , SSIM_score: 0.288708096183385\n",
      "Dice_score_indoors: 0.1860587190284149 , SSIM_score: 0.29569392676155176\n",
      "Dice_score_outdoors: 0.18340443519511385 , SSIM_score: 0.2817222656052183\n"
     ]
    },
    {
     "name": "stderr",
     "output_type": "stream",
     "text": [
      "100%|█████████████████████████████████████████████████████████████████████████████| 1600/1600 [00:12<00:00, 124.33it/s]\n"
     ]
    },
    {
     "name": "stdout",
     "output_type": "stream",
     "text": [
      "___groudtruth__vein-shadowfree_SIDSTGAN_rawsynthetic_HandSeg_190__vein_______________________:\n",
      "Dice_score: 0.1866645270795541 , SSIM_score: 0.2914003165215307\n",
      "Dice_score_indoors: 0.18827938985708637 , SSIM_score: 0.29959001128591\n",
      "Dice_score_outdoors: 0.18504966430202127 , SSIM_score: 0.283210621757151\n"
     ]
    },
    {
     "name": "stderr",
     "output_type": "stream",
     "text": [
      "100%|██████████████████████████████████████████████████████████████████████████████| 1600/1600 [00:23<00:00, 69.11it/s]\n"
     ]
    },
    {
     "name": "stdout",
     "output_type": "stream",
     "text": [
      "___groudtruth__vein-shadowfree_SIDPAMIwISTGAN_rawsynthetic_190__vein_______________________:\n",
      "Dice_score: 0.18146813187586194 , SSIM_score: 0.2817311830597315\n",
      "Dice_score_indoors: 0.18293645043910836 , SSIM_score: 0.29076076371443305\n",
      "Dice_score_outdoors: 0.1799998133126161 , SSIM_score: 0.27270160240502916\n"
     ]
    },
    {
     "name": "stderr",
     "output_type": "stream",
     "text": [
      "100%|██████████████████████████████████████████████████████████████████████████████| 1600/1600 [00:22<00:00, 70.23it/s]"
     ]
    },
    {
     "name": "stdout",
     "output_type": "stream",
     "text": [
      "___groudtruth__vein-shadowfree_SIDPAMIwISTGAN_rawsynthetic_HandSeg_190__vein_______________________:\n",
      "Dice_score: 0.1818963673629675 , SSIM_score: 0.2826223437494009\n",
      "Dice_score_indoors: 0.18289290000172326 , SSIM_score: 0.2889883573641368\n",
      "Dice_score_outdoors: 0.1808998347242117 , SSIM_score: 0.2762563301346657\n"
     ]
    },
    {
     "name": "stderr",
     "output_type": "stream",
     "text": [
      "\n"
     ]
    }
   ],
   "source": [
    "print(\"_____Experiment on Palm Vein images_____\")\n",
    "path = os.path.join(os. getcwd(), \"RSSD\\\\_result_set\")\n",
    "groudtruth_path = os.path.join(path, \"groudtruth__vein\")     \n",
    "path_dict = {\"original\": [os.path.join(path, \"original__vein\")]}\n",
    "for name_list in model_lists:\n",
    "    path_dict[name_list] = list()\n",
    "    path_dict[f\"{name_list}_HandSeg\"] = list()\n",
    "\n",
    "for index in checkpoint_lists:\n",
    "    for name_list in model_lists:\n",
    "        path_dict[name_list].append(os.path.join(path, f\"shadowfree_{name_list}_rawsynthetic_{index}__vein\"))      \n",
    "        path_dict[f\"{name_list}_HandSeg\"].append(os.path.join(path, f\"shadowfree_{name_list}_rawsynthetic_HandSeg_{index}__vein\"))\n",
    "\n",
    "draw_data = dict()\n",
    "for model_name in list(path_dict.keys()):\n",
    "    Dice_list, SSIM_list = list(), list()\n",
    "    \n",
    "    for predicted_path in path_dict[model_name]: \n",
    "        Dice, SSIM = compute_score(groudtruth_path, predicted_path, color_image = 0)\n",
    "        Dice_list.append(Dice)\n",
    "        SSIM_list.append(SSIM)\n",
    "    \n",
    "    if len(PNSR_list) > 1:\n",
    "        draw_data[model_name] = [Dice_list, SSIM_list]"
   ]
  },
  {
   "cell_type": "code",
   "execution_count": 15,
   "id": "ccd47458",
   "metadata": {},
   "outputs": [
    {
     "name": "stdout",
     "output_type": "stream",
     "text": [
      "_____Experiment on Palm Vein images_____\n"
     ]
    }
   ],
   "source": [
    "# Visualize data\n",
    "print(\"_____Experiment on Palm Vein images_____\")\n",
    "model_list = list(draw_data.keys())\n",
    "if len(model_list) > 0:\n",
    "    fig, axs = plt.subplots(nrows=len(model_list),ncols=2, figsize=(20,10))\n",
    "    for model_id in range(len(model_list)): \n",
    "        plot_figure(axs[model_id, 0], draw_data[model_list[model_id]][0], f\"Dice score_{model_list[model_id]}\")\n",
    "        plot_figure(axs[model_id, 1], draw_data[model_list[model_id]][1], f\"SSIM score_{model_list[model_id]}\")\n",
    "    plt.tight_layout()\n",
    "    plt.show()"
   ]
  },
  {
   "cell_type": "code",
   "execution_count": null,
   "id": "b1c05c6f",
   "metadata": {},
   "outputs": [],
   "source": []
  }
 ],
 "metadata": {
  "kernelspec": {
   "display_name": "Python 3 (ipykernel)",
   "language": "python",
   "name": "python3"
  },
  "language_info": {
   "codemirror_mode": {
    "name": "ipython",
    "version": 3
   },
   "file_extension": ".py",
   "mimetype": "text/x-python",
   "name": "python",
   "nbconvert_exporter": "python",
   "pygments_lexer": "ipython3",
   "version": "3.9.12"
  }
 },
 "nbformat": 4,
 "nbformat_minor": 5
}
